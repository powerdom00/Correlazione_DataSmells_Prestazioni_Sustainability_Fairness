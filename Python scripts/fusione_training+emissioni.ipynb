{
  "cells": [
    {
      "cell_type": "code",
      "execution_count": null,
      "metadata": {
        "colab": {
          "base_uri": "https://localhost:8080/",
          "height": 173
        },
        "id": "zCxzkRSbg05_",
        "outputId": "3587b329-a0f7-416c-acc8-2c60efd0a50c"
      },
      "outputs": [],
      "source": [
        "\n",
        "import pandas as pd\n",
        "from google.colab import files\n",
        "import io\n",
        "\n",
        "# Carica i due file CSV\n",
        "print(\"Carica il primo CSV:\")\n",
        "uploaded1 = files.upload()\n",
        "file1 = next(iter(uploaded1))\n",
        "df1 = pd.read_csv(io.BytesIO(uploaded1[file1]))\n",
        "\n",
        "print(\"\\nCarica il secondo CSV:\")\n",
        "uploaded2 = files.upload()\n",
        "file2 = next(iter(uploaded2))\n",
        "df2 = pd.read_csv(io.BytesIO(uploaded2[file2]))\n",
        "\n",
        "# Unisci le righe affiancando le colonne\n",
        "merged_df = pd.concat([df1.reset_index(drop=True), df2.reset_index(drop=True)], axis=1)\n",
        "\n",
        "# Salva e scarica\n",
        "output_filename = \"merged_datasets.csv\"\n",
        "merged_df.to_csv(output_filename, index=False)\n",
        "files.download(output_filename)\n"
      ]
    }
  ],
  "metadata": {
    "colab": {
      "provenance": []
    },
    "kernelspec": {
      "display_name": "Python 3",
      "name": "python3"
    },
    "language_info": {
      "name": "python"
    }
  },
  "nbformat": 4,
  "nbformat_minor": 0
}
