{
  "cells": [
    {
      "cell_type": "code",
      "execution_count": null,
      "metadata": {
        "colab": {
          "base_uri": "https://localhost:8080/",
          "height": 69
        },
        "id": "bRg1g-FOUTUr",
        "outputId": "d8cdb1f5-56c2-46b6-df2b-ae135cdd9247"
      },
      "outputs": [],
      "source": [
        "import pandas as pd\n",
        "from sklearn.preprocessing import OneHotEncoder\n",
        "from sklearn.compose import ColumnTransformer\n",
        "from sklearn.pipeline import Pipeline\n",
        "from sklearn.impute import SimpleImputer\n",
        "from google.colab import files\n",
        "import io\n",
        "\n",
        "# Upload file\n",
        "uploaded = files.upload()\n",
        "file_name = next(iter(uploaded))\n",
        "df = pd.read_csv(io.BytesIO(uploaded[file_name]))\n",
        "\n",
        "# Identifica colonne numeriche e categoriche\n",
        "numerical_cols = df.select_dtypes(include=['int64', 'float64']).columns.tolist()\n",
        "categorical_cols = [col for col in df.columns if df[col].dtype == \"object\" and not col.lower().startswith(\"num_\")]\n",
        "\n",
        "# Imputazione dei valori nulli\n",
        "numerical_pipeline = Pipeline(steps=[\n",
        "    ('imputer', SimpleImputer(strategy='mean'))\n",
        "])\n",
        "\n",
        "# Colonne categoriche: imputazione + one-hot encoding\n",
        "categorical_pipeline = Pipeline(steps=[\n",
        "    ('imputer', SimpleImputer(strategy='most_frequent')),\n",
        "    ('encoder', OneHotEncoder(sparse_output=False, handle_unknown='ignore'))\n",
        "])\n",
        "\n",
        "\n",
        "preprocessor = ColumnTransformer(transformers=[\n",
        "    ('num', numerical_pipeline, numerical_cols),\n",
        "    ('cat', categorical_pipeline, categorical_cols)\n",
        "])\n",
        "\n",
        "# Applica il preprocessing\n",
        "df_processed = preprocessor.fit_transform(df)\n",
        "\n",
        "# Ottieni nomi colonne trasformate\n",
        "num_features = numerical_cols\n",
        "cat_features = preprocessor.named_transformers_['cat']['encoder'].get_feature_names_out(categorical_cols)\n",
        "all_features = list(num_features) + list(cat_features)\n",
        "\n",
        "# Crea il DataFrame finale\n",
        "df_encoded = pd.DataFrame(df_processed, columns=all_features)\n",
        "\n",
        "# Salva e scarica il dataset pulito\n",
        "output_file = \"clean_dataset.csv\"\n",
        "df_encoded.to_csv(output_file, index=False)\n",
        "files.download(output_file)\n"
      ]
    }
  ],
  "metadata": {
    "colab": {
      "provenance": []
    },
    "kernelspec": {
      "display_name": "Python 3",
      "name": "python3"
    },
    "language_info": {
      "name": "python"
    }
  },
  "nbformat": 4,
  "nbformat_minor": 0
}
