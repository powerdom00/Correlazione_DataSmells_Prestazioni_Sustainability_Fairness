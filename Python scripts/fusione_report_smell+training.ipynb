{
  "cells": [
    {
      "cell_type": "code",
      "execution_count": null,
      "metadata": {
        "colab": {
          "base_uri": "https://localhost:8080/",
          "height": 437
        },
        "id": "ExiIWXS2Ayfn",
        "outputId": "5a498e62-c0e8-4fce-dc2f-e0a8f32cf369"
      },
      "outputs": [],
      "source": [
        "import pandas as pd\n",
        "from google.colab import files\n",
        "import io\n",
        "\n",
        "# Carica i file CSV (summary.csv e merged_dataset.csv)\n",
        "uploaded = files.upload()\n",
        "\n",
        "# Legge i due CSV\n",
        "summary_df = pd.read_csv(io.BytesIO(uploaded['summary.csv']))\n",
        "merged_df = pd.read_csv(io.BytesIO(uploaded['marged_dataset.csv']))\n",
        "\n",
        "# Join sul campo 'dataset'\n",
        "final_df = merged_df.merge(summary_df, on='dataset', how='left')\n",
        "\n",
        "# Visualizza le prime righe del risultato\n",
        "final_df.head()\n",
        "\n",
        "# Salva il risultato in un CSV\n",
        "merged_df.to_csv(\"merged_dataset.csv\", index=False)\n",
        "\n",
        "# Scarica il file sul tuo computer\n",
        "files.download(\"merged_dataset.csv\")\n"
      ]
    }
  ],
  "metadata": {
    "colab": {
      "provenance": []
    },
    "kernelspec": {
      "display_name": "Python 3",
      "name": "python3"
    },
    "language_info": {
      "name": "python"
    }
  },
  "nbformat": 4,
  "nbformat_minor": 0
}
